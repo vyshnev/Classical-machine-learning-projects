{
 "cells": [
  {
   "cell_type": "code",
   "execution_count": 1,
   "id": "bc8291cc",
   "metadata": {},
   "outputs": [],
   "source": [
    "import pandas as pd\n",
    "import seaborn as sns\n",
    "import numpy as np\n",
    "import matplotlib.pyplot as plt"
   ]
  },
  {
   "cell_type": "code",
   "execution_count": 2,
   "id": "73791702",
   "metadata": {},
   "outputs": [],
   "source": [
    "data = pd.read_csv(r'C:\\Users\\vyshn\\Downloads\\UK_monthly_gdp.csv')"
   ]
  },
  {
   "cell_type": "code",
   "execution_count": 4,
   "id": "b90fc0ee",
   "metadata": {},
   "outputs": [
    {
     "data": {
      "text/html": [
       "<div>\n",
       "<style scoped>\n",
       "    .dataframe tbody tr th:only-of-type {\n",
       "        vertical-align: middle;\n",
       "    }\n",
       "\n",
       "    .dataframe tbody tr th {\n",
       "        vertical-align: top;\n",
       "    }\n",
       "\n",
       "    .dataframe thead th {\n",
       "        text-align: right;\n",
       "    }\n",
       "</style>\n",
       "<table border=\"1\" class=\"dataframe\">\n",
       "  <thead>\n",
       "    <tr style=\"text-align: right;\">\n",
       "      <th></th>\n",
       "      <th>Time Period</th>\n",
       "      <th>GDP Growth</th>\n",
       "    </tr>\n",
       "  </thead>\n",
       "  <tbody>\n",
       "    <tr>\n",
       "      <th>0</th>\n",
       "      <td>/01/2020</td>\n",
       "      <td>0.3</td>\n",
       "    </tr>\n",
       "    <tr>\n",
       "      <th>1</th>\n",
       "      <td>/02/2020</td>\n",
       "      <td>-0.5</td>\n",
       "    </tr>\n",
       "    <tr>\n",
       "      <th>2</th>\n",
       "      <td>/03/2020</td>\n",
       "      <td>-7.0</td>\n",
       "    </tr>\n",
       "    <tr>\n",
       "      <th>3</th>\n",
       "      <td>/04/2020</td>\n",
       "      <td>-20.9</td>\n",
       "    </tr>\n",
       "    <tr>\n",
       "      <th>4</th>\n",
       "      <td>/05/2020</td>\n",
       "      <td>3.2</td>\n",
       "    </tr>\n",
       "  </tbody>\n",
       "</table>\n",
       "</div>"
      ],
      "text/plain": [
       "  Time Period  GDP Growth\n",
       "0    /01/2020         0.3\n",
       "1    /02/2020        -0.5\n",
       "2    /03/2020        -7.0\n",
       "3    /04/2020       -20.9\n",
       "4    /05/2020         3.2"
      ]
     },
     "execution_count": 4,
     "metadata": {},
     "output_type": "execute_result"
    }
   ],
   "source": [
    "data.head()"
   ]
  },
  {
   "cell_type": "markdown",
   "id": "b5741865",
   "metadata": {},
   "source": [
    "the GDP growth over time:"
   ]
  },
  {
   "cell_type": "code",
   "execution_count": 9,
   "id": "e8495533",
   "metadata": {},
   "outputs": [
    {
     "data": {
      "text/plain": [
       "<Axes: >"
      ]
     },
     "execution_count": 9,
     "metadata": {},
     "output_type": "execute_result"
    },
    {
     "data": {
      "image/png": "[encoded data removed]",
      "text/plain": [
       "<Figure size 640x480 with 2 Axes>"
      ]
     },
     "metadata": {},
     "output_type": "display_data"
    }
   ],
   "source": [
    "growth_over_time = pd.DataFrame(data['GDP Growth'],data.index)\n",
    "\n",
    "sns.heatmap(growth_over_time)"
   ]
  },
  {
   "cell_type": "markdown",
   "id": "73c2332f",
   "metadata": {},
   "source": [
    "I will convert our monthly data into quarterly data to analyze the recession:\n",
    "\n"
   ]
  },
  {
   "cell_type": "code",
   "execution_count": 13,
   "id": "c23f405b",
   "metadata": {},
   "outputs": [
    {
     "name": "stdout",
     "output_type": "stream",
     "text": [
      "             GDP Growth\n",
      "Time Period            \n",
      "2020-03-31    -2.400000\n",
      "2020-06-30    -2.900000\n",
      "2020-09-30     3.500000\n",
      "2020-12-31     0.200000\n",
      "2021-03-31     0.033333\n",
      "2021-06-30     1.800000\n",
      "2021-09-30     0.433333\n",
      "2021-12-31     0.400000\n",
      "2022-03-31     0.066667\n",
      "2022-06-30    -0.133333\n",
      "2022-09-30    -0.166667\n",
      "2022-12-31     0.033333\n"
     ]
    }
   ],
   "source": [
    "data['Time Period'] = pd.to_datetime(data['Time Period'], format='/%m/%Y')\n",
    "data.set_index('Time Period', inplace=True)\n",
    "quarterly_data = data.resample('QE').mean()\n",
    "print(quarterly_data)"
   ]
  },
  {
   "cell_type": "code",
   "execution_count": 17,
   "id": "92d3d048",
   "metadata": {},
   "outputs": [
    {
     "data": {
      "text/html": [
       "<div>\n",
       "<style scoped>\n",
       "    .dataframe tbody tr th:only-of-type {\n",
       "        vertical-align: middle;\n",
       "    }\n",
       "\n",
       "    .dataframe tbody tr th {\n",
       "        vertical-align: top;\n",
       "    }\n",
       "\n",
       "    .dataframe thead th {\n",
       "        text-align: right;\n",
       "    }\n",
       "</style>\n",
       "<table border=\"1\" class=\"dataframe\">\n",
       "  <thead>\n",
       "    <tr style=\"text-align: right;\">\n",
       "      <th></th>\n",
       "      <th>GDP Growth</th>\n",
       "    </tr>\n",
       "    <tr>\n",
       "      <th>Time Period</th>\n",
       "      <th></th>\n",
       "    </tr>\n",
       "  </thead>\n",
       "  <tbody>\n",
       "    <tr>\n",
       "      <th>2020-03-31</th>\n",
       "      <td>-2.400000</td>\n",
       "    </tr>\n",
       "    <tr>\n",
       "      <th>2020-06-30</th>\n",
       "      <td>-2.900000</td>\n",
       "    </tr>\n",
       "    <tr>\n",
       "      <th>2020-09-30</th>\n",
       "      <td>3.500000</td>\n",
       "    </tr>\n",
       "    <tr>\n",
       "      <th>2020-12-31</th>\n",
       "      <td>0.200000</td>\n",
       "    </tr>\n",
       "    <tr>\n",
       "      <th>2021-03-31</th>\n",
       "      <td>0.033333</td>\n",
       "    </tr>\n",
       "  </tbody>\n",
       "</table>\n",
       "</div>"
      ],
      "text/plain": [
       "             GDP Growth\n",
       "Time Period            \n",
       "2020-03-31    -2.400000\n",
       "2020-06-30    -2.900000\n",
       "2020-09-30     3.500000\n",
       "2020-12-31     0.200000\n",
       "2021-03-31     0.033333"
      ]
     },
     "execution_count": 17,
     "metadata": {},
     "output_type": "execute_result"
    }
   ],
   "source": [
    "quarterly_data.head()"
   ]
  },
  {
   "cell_type": "markdown",
   "id": "5582d5a1",
   "metadata": {},
   "source": [
    "here’s how we can calculate and analyze recession based on quarterly GDP growth:\n",
    "\n"
   ]
  },
  {
   "cell_type": "code",
   "execution_count": 18,
   "id": "08cbb3e1",
   "metadata": {},
   "outputs": [],
   "source": [
    "quarterly_data['Recession'] = ((quarterly_data['GDP Growth']< 0) & (quarterly_data['GDP Growth'].shift(1)<0))"
   ]
  },
  {
   "cell_type": "code",
   "execution_count": 19,
   "id": "cc9084c1",
   "metadata": {},
   "outputs": [
    {
     "data": {
      "text/html": [
       "<div>\n",
       "<style scoped>\n",
       "    .dataframe tbody tr th:only-of-type {\n",
       "        vertical-align: middle;\n",
       "    }\n",
       "\n",
       "    .dataframe tbody tr th {\n",
       "        vertical-align: top;\n",
       "    }\n",
       "\n",
       "    .dataframe thead th {\n",
       "        text-align: right;\n",
       "    }\n",
       "</style>\n",
       "<table border=\"1\" class=\"dataframe\">\n",
       "  <thead>\n",
       "    <tr style=\"text-align: right;\">\n",
       "      <th></th>\n",
       "      <th>GDP Growth</th>\n",
       "      <th>Recession</th>\n",
       "    </tr>\n",
       "    <tr>\n",
       "      <th>Time Period</th>\n",
       "      <th></th>\n",
       "      <th></th>\n",
       "    </tr>\n",
       "  </thead>\n",
       "  <tbody>\n",
       "    <tr>\n",
       "      <th>2020-03-31</th>\n",
       "      <td>-2.400000</td>\n",
       "      <td>False</td>\n",
       "    </tr>\n",
       "    <tr>\n",
       "      <th>2020-06-30</th>\n",
       "      <td>-2.900000</td>\n",
       "      <td>True</td>\n",
       "    </tr>\n",
       "    <tr>\n",
       "      <th>2020-09-30</th>\n",
       "      <td>3.500000</td>\n",
       "      <td>False</td>\n",
       "    </tr>\n",
       "    <tr>\n",
       "      <th>2020-12-31</th>\n",
       "      <td>0.200000</td>\n",
       "      <td>False</td>\n",
       "    </tr>\n",
       "    <tr>\n",
       "      <th>2021-03-31</th>\n",
       "      <td>0.033333</td>\n",
       "      <td>False</td>\n",
       "    </tr>\n",
       "  </tbody>\n",
       "</table>\n",
       "</div>"
      ],
      "text/plain": [
       "             GDP Growth  Recession\n",
       "Time Period                       \n",
       "2020-03-31    -2.400000      False\n",
       "2020-06-30    -2.900000       True\n",
       "2020-09-30     3.500000      False\n",
       "2020-12-31     0.200000      False\n",
       "2021-03-31     0.033333      False"
      ]
     },
     "execution_count": 19,
     "metadata": {},
     "output_type": "execute_result"
    }
   ],
   "source": [
    "quarterly_data.head()"
   ]
  },
  {
   "cell_type": "code",
   "execution_count": 20,
   "id": "2da3c4c1",
   "metadata": {},
   "outputs": [
    {
     "data": {
      "text/plain": [
       "GDP Growth    0\n",
       "Recession     0\n",
       "dtype: int64"
      ]
     },
     "execution_count": 20,
     "metadata": {},
     "output_type": "execute_result"
    }
   ],
   "source": [
    "quarterly_data.isna().sum()"
   ]
  },
  {
   "cell_type": "code",
   "execution_count": 22,
   "id": "c637ee62",
   "metadata": {},
   "outputs": [
    {
     "data": {
      "text/plain": [
       "Time Period\n",
       "2020-03-31    False\n",
       "2020-06-30     True\n",
       "2020-09-30    False\n",
       "2020-12-31    False\n",
       "2021-03-31    False\n",
       "2021-06-30    False\n",
       "2021-09-30    False\n",
       "2021-12-31    False\n",
       "2022-03-31    False\n",
       "2022-06-30    False\n",
       "2022-09-30     True\n",
       "2022-12-31    False\n",
       "Freq: QE-DEC, Name: Recession, dtype: bool"
      ]
     },
     "execution_count": 22,
     "metadata": {},
     "output_type": "execute_result"
    }
   ],
   "source": [
    "quarterly_data['Recession'].fillna(False)"
   ]
  },
  {
   "cell_type": "code",
   "execution_count": 25,
   "id": "84d362b0",
   "metadata": {},
   "outputs": [
    {
     "data": {
      "text/html": [
       "<div>\n",
       "<style scoped>\n",
       "    .dataframe tbody tr th:only-of-type {\n",
       "        vertical-align: middle;\n",
       "    }\n",
       "\n",
       "    .dataframe tbody tr th {\n",
       "        vertical-align: top;\n",
       "    }\n",
       "\n",
       "    .dataframe thead th {\n",
       "        text-align: right;\n",
       "    }\n",
       "</style>\n",
       "<table border=\"1\" class=\"dataframe\">\n",
       "  <thead>\n",
       "    <tr style=\"text-align: right;\">\n",
       "      <th></th>\n",
       "      <th>GDP Growth</th>\n",
       "      <th>Recession</th>\n",
       "    </tr>\n",
       "    <tr>\n",
       "      <th>Time Period</th>\n",
       "      <th></th>\n",
       "      <th></th>\n",
       "    </tr>\n",
       "  </thead>\n",
       "  <tbody>\n",
       "    <tr>\n",
       "      <th>2020-03-31</th>\n",
       "      <td>-2.400000</td>\n",
       "      <td>False</td>\n",
       "    </tr>\n",
       "    <tr>\n",
       "      <th>2020-06-30</th>\n",
       "      <td>-2.900000</td>\n",
       "      <td>True</td>\n",
       "    </tr>\n",
       "    <tr>\n",
       "      <th>2020-09-30</th>\n",
       "      <td>3.500000</td>\n",
       "      <td>False</td>\n",
       "    </tr>\n",
       "    <tr>\n",
       "      <th>2020-12-31</th>\n",
       "      <td>0.200000</td>\n",
       "      <td>False</td>\n",
       "    </tr>\n",
       "    <tr>\n",
       "      <th>2021-03-31</th>\n",
       "      <td>0.033333</td>\n",
       "      <td>False</td>\n",
       "    </tr>\n",
       "  </tbody>\n",
       "</table>\n",
       "</div>"
      ],
      "text/plain": [
       "             GDP Growth  Recession\n",
       "Time Period                       \n",
       "2020-03-31    -2.400000      False\n",
       "2020-06-30    -2.900000       True\n",
       "2020-09-30     3.500000      False\n",
       "2020-12-31     0.200000      False\n",
       "2021-03-31     0.033333      False"
      ]
     },
     "execution_count": 25,
     "metadata": {},
     "output_type": "execute_result"
    }
   ],
   "source": [
    "quarterly_data.head()"
   ]
  },
  {
   "cell_type": "code",
   "execution_count": 26,
   "id": "caef0776",
   "metadata": {},
   "outputs": [
    {
     "data": {
      "text/plain": [
       "<Axes: xlabel='Time Period'>"
      ]
     },
     "execution_count": 26,
     "metadata": {},
     "output_type": "execute_result"
    },
    {
     "data": {
      "image/png": "[encoded data removed]",
      "text/plain": [
       "<Figure size 640x480 with 1 Axes>"
      ]
     },
     "metadata": {},
     "output_type": "display_data"
    }
   ],
   "source": [
    "sns.lineplot(quarterly_data)"
   ]
  },
  {
   "cell_type": "code",
   "execution_count": null,
   "id": "836056ac",
   "metadata": {},
   "outputs": [],
   "source": []
  }
 ],
 "metadata": {
  "kernelspec": {
   "display_name": "Python 3 (ipykernel)",
   "language": "python",
   "name": "python3"
  },
  "language_info": {
   "codemirror_mode": {
    "name": "ipython",
    "version": 3
   },
   "file_extension": ".py",
   "mimetype": "text/x-python",
   "name": "python",
   "nbconvert_exporter": "python",
   "pygments_lexer": "ipython3",
   "version": "3.11.5"
  }
 },
 "nbformat": 4,
 "nbformat_minor": 5
}
