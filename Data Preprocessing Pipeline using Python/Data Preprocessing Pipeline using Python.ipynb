{
 "cells": [
  {
   "cell_type": "code",
   "execution_count": 1,
   "id": "b854f9cd",
   "metadata": {},
   "outputs": [],
   "source": [
    "import pandas as pd\n",
    "import numpy as np\n",
    "from sklearn.preprocessing import StandardScaler"
   ]
  },
  {
   "cell_type": "code",
   "execution_count": 2,
   "id": "d3a1d28e",
   "metadata": {},
   "outputs": [],
   "source": [
    "def data_preprocessing(data):\n",
    "    #separating the numeric and object datatypes\n",
    "    numeric_features = data.select_dtypes(include=['float', 'int']).columns\n",
    "    categorical_features = data.select_dtypes(include='object').columns\n",
    "    \n",
    "    #handle missing values in dataset for numeric features\n",
    "    data[numeric_features] = data[numeric_features].fillna(data[numeric_features].mean())\n",
    "    \n",
    "    #detect and handle outliers in numeric features using IQR\n",
    "    for features in numeric_features:\n",
    "        Q1 = data[features].quantile(0.25)\n",
    "        Q3 = data[features].quantile(0.75)\n",
    "        IQR = Q3 - Q1\n",
    "        lower_bound = Q1 - (1.5 * IQR)\n",
    "        upper_bound = Q1 + (1.5 * IQR)\n",
    "        data[features] = np.where((data[features] < lower_bound) | (data[features] > upper_bound), data[features].mean(),\n",
    "                                  data[features])\n",
    "    \n",
    "    #Stamdardizing the numeric features\n",
    "    scaler = StandardScaler()\n",
    "    data[numeric_features] = scaler.fit_transform(data[numeric_features])\n",
    "    \n",
    "    #handling missing values in categorical features\n",
    "    data[categorical_features] = data[categorical_features].fillna(data[categorical_features].mode().iloc[0])\n",
    "    \n",
    "    return data"
   ]
  },
  {
   "cell_type": "code",
   "execution_count": 4,
   "id": "1118a59e",
   "metadata": {},
   "outputs": [
    {
     "name": "stdout",
     "output_type": "stream",
     "text": [
      "Original Data:\n",
      "   NumericFeature1  NumericFeature2 CategoricalFeature\n",
      "0              1.0                7                  A\n",
      "1              2.0                8                  B\n",
      "2              NaN                9                NaN\n",
      "3              4.0               10                  A\n",
      "4              5.0               11                  B\n",
      "5              6.0               50                  C\n"
     ]
    }
   ],
   "source": [
    "data = pd.read_csv(r'C:\\Users\\vyshn\\Downloads\\data.csv')\n",
    "\n",
    "print('Original Data:')\n",
    "print(data)"
   ]
  },
  {
   "cell_type": "code",
   "execution_count": 5,
   "id": "106c9f4e",
   "metadata": {},
   "outputs": [
    {
     "name": "stdout",
     "output_type": "stream",
     "text": [
      "Preprocessd data:\n",
      "   NumericFeature1  NumericFeature2 CategoricalFeature\n",
      "0         -1.66463        -1.099370                  A\n",
      "1         -0.90798        -0.749128                  B\n",
      "2          0.30266        -0.398886                  A\n",
      "3          0.60532        -0.048645                  A\n",
      "4          1.36197         0.301597                  B\n",
      "5          0.30266         1.994431                  C\n"
     ]
    }
   ],
   "source": [
    "cleaned_data= data_preprocessing(data)\n",
    "\n",
    "print('Preprocessd data:')\n",
    "print(cleaned_data)"
   ]
  },
  {
   "cell_type": "code",
   "execution_count": null,
   "id": "f8a35e54",
   "metadata": {},
   "outputs": [],
   "source": []
  }
 ],
 "metadata": {
  "kernelspec": {
   "display_name": "Python 3 (ipykernel)",
   "language": "python",
   "name": "python3"
  },
  "language_info": {
   "codemirror_mode": {
    "name": "ipython",
    "version": 3
   },
   "file_extension": ".py",
   "mimetype": "text/x-python",
   "name": "python",
   "nbconvert_exporter": "python",
   "pygments_lexer": "ipython3",
   "version": "3.11.5"
  }
 },
 "nbformat": 4,
 "nbformat_minor": 5
}
