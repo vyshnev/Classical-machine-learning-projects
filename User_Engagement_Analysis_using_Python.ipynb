{
 "cells": [
  {
   "cell_type": "code",
   "execution_count": 1,
   "id": "918d0d99",
   "metadata": {},
   "outputs": [],
   "source": [
    "import pandas as pd\n",
    "import seaborn as sns\n",
    "import numpy as np\n",
    "import matplotlib.pyplot as plt"
   ]
  },
  {
   "cell_type": "code",
   "execution_count": 2,
   "id": "2002df99",
   "metadata": {},
   "outputs": [],
   "source": [
    "data= pd.read_csv(r'C:\\Users\\vyshn\\Downloads\\bounce-rate.csv')"
   ]
  },
  {
   "cell_type": "code",
   "execution_count": 3,
   "id": "d38b4a35",
   "metadata": {},
   "outputs": [
    {
     "data": {
      "text/html": [
       "<div>\n",
       "<style scoped>\n",
       "    .dataframe tbody tr th:only-of-type {\n",
       "        vertical-align: middle;\n",
       "    }\n",
       "\n",
       "    .dataframe tbody tr th {\n",
       "        vertical-align: top;\n",
       "    }\n",
       "\n",
       "    .dataframe thead th {\n",
       "        text-align: right;\n",
       "    }\n",
       "</style>\n",
       "<table border=\"1\" class=\"dataframe\">\n",
       "  <thead>\n",
       "    <tr style=\"text-align: right;\">\n",
       "      <th></th>\n",
       "      <th>Client ID</th>\n",
       "      <th>Sessions</th>\n",
       "      <th>Avg. Session Duration</th>\n",
       "      <th>Bounce Rate</th>\n",
       "    </tr>\n",
       "  </thead>\n",
       "  <tbody>\n",
       "    <tr>\n",
       "      <th>0</th>\n",
       "      <td>5.778476e+08</td>\n",
       "      <td>367</td>\n",
       "      <td>00:01:35</td>\n",
       "      <td>87.19%</td>\n",
       "    </tr>\n",
       "    <tr>\n",
       "      <th>1</th>\n",
       "      <td>1.583822e+09</td>\n",
       "      <td>260</td>\n",
       "      <td>00:01:04</td>\n",
       "      <td>29.62%</td>\n",
       "    </tr>\n",
       "    <tr>\n",
       "      <th>2</th>\n",
       "      <td>1.030699e+09</td>\n",
       "      <td>237</td>\n",
       "      <td>00:00:02</td>\n",
       "      <td>99.16%</td>\n",
       "    </tr>\n",
       "    <tr>\n",
       "      <th>3</th>\n",
       "      <td>1.025030e+09</td>\n",
       "      <td>226</td>\n",
       "      <td>00:02:22</td>\n",
       "      <td>25.66%</td>\n",
       "    </tr>\n",
       "    <tr>\n",
       "      <th>4</th>\n",
       "      <td>1.469968e+09</td>\n",
       "      <td>216</td>\n",
       "      <td>00:01:23</td>\n",
       "      <td>46.76%</td>\n",
       "    </tr>\n",
       "  </tbody>\n",
       "</table>\n",
       "</div>"
      ],
      "text/plain": [
       "      Client ID  Sessions Avg. Session Duration Bounce Rate\n",
       "0  5.778476e+08       367              00:01:35      87.19%\n",
       "1  1.583822e+09       260              00:01:04      29.62%\n",
       "2  1.030699e+09       237              00:00:02      99.16%\n",
       "3  1.025030e+09       226              00:02:22      25.66%\n",
       "4  1.469968e+09       216              00:01:23      46.76%"
      ]
     },
     "execution_count": 3,
     "metadata": {},
     "output_type": "execute_result"
    }
   ],
   "source": [
    "data.head()"
   ]
  },
  {
   "cell_type": "code",
   "execution_count": 4,
   "id": "bb3e48e5",
   "metadata": {},
   "outputs": [
    {
     "data": {
      "text/plain": [
       "Client ID                0\n",
       "Sessions                 0\n",
       "Avg. Session Duration    0\n",
       "Bounce Rate              0\n",
       "dtype: int64"
      ]
     },
     "execution_count": 4,
     "metadata": {},
     "output_type": "execute_result"
    }
   ],
   "source": [
    "data.isna().sum()"
   ]
  },
  {
   "cell_type": "code",
   "execution_count": 5,
   "id": "23ab4af7",
   "metadata": {},
   "outputs": [
    {
     "name": "stdout",
     "output_type": "stream",
     "text": [
      "<class 'pandas.core.frame.DataFrame'>\n",
      "RangeIndex: 999 entries, 0 to 998\n",
      "Data columns (total 4 columns):\n",
      " #   Column                 Non-Null Count  Dtype  \n",
      "---  ------                 --------------  -----  \n",
      " 0   Client ID              999 non-null    float64\n",
      " 1   Sessions               999 non-null    int64  \n",
      " 2   Avg. Session Duration  999 non-null    object \n",
      " 3   Bounce Rate            999 non-null    object \n",
      "dtypes: float64(1), int64(1), object(2)\n",
      "memory usage: 31.3+ KB\n"
     ]
    }
   ],
   "source": [
    "data.info()"
   ]
  },
  {
   "cell_type": "code",
   "execution_count": 6,
   "id": "e76844fb",
   "metadata": {},
   "outputs": [],
   "source": [
    "data['Avg. Session Duration'] = data['Avg. Session Duration'].str[1:]\n",
    "data['Avg. Session Duration'] = pd.to_timedelta(data['Avg. Session Duration'])\n",
    "data['Avg. Session Duration'] = data['Avg. Session Duration'] / pd.Timedelta(minutes=1)\n",
    "data['Bounce Rate'] = data['Bounce Rate'].str.strip('%').astype('float')"
   ]
  },
  {
   "cell_type": "code",
   "execution_count": 7,
   "id": "9ba454ca",
   "metadata": {},
   "outputs": [
    {
     "name": "stdout",
     "output_type": "stream",
     "text": [
      "<class 'pandas.core.frame.DataFrame'>\n",
      "RangeIndex: 999 entries, 0 to 998\n",
      "Data columns (total 4 columns):\n",
      " #   Column                 Non-Null Count  Dtype  \n",
      "---  ------                 --------------  -----  \n",
      " 0   Client ID              999 non-null    float64\n",
      " 1   Sessions               999 non-null    int64  \n",
      " 2   Avg. Session Duration  999 non-null    float64\n",
      " 3   Bounce Rate            999 non-null    float64\n",
      "dtypes: float64(3), int64(1)\n",
      "memory usage: 31.3 KB\n"
     ]
    }
   ],
   "source": [
    "data.info()"
   ]
  },
  {
   "cell_type": "code",
   "execution_count": 8,
   "id": "7a2626fd",
   "metadata": {},
   "outputs": [
    {
     "data": {
      "text/html": [
       "<div>\n",
       "<style scoped>\n",
       "    .dataframe tbody tr th:only-of-type {\n",
       "        vertical-align: middle;\n",
       "    }\n",
       "\n",
       "    .dataframe tbody tr th {\n",
       "        vertical-align: top;\n",
       "    }\n",
       "\n",
       "    .dataframe thead th {\n",
       "        text-align: right;\n",
       "    }\n",
       "</style>\n",
       "<table border=\"1\" class=\"dataframe\">\n",
       "  <thead>\n",
       "    <tr style=\"text-align: right;\">\n",
       "      <th></th>\n",
       "      <th>count</th>\n",
       "      <th>mean</th>\n",
       "      <th>std</th>\n",
       "      <th>min</th>\n",
       "      <th>25%</th>\n",
       "      <th>50%</th>\n",
       "      <th>75%</th>\n",
       "      <th>max</th>\n",
       "    </tr>\n",
       "  </thead>\n",
       "  <tbody>\n",
       "    <tr>\n",
       "      <th>Client ID</th>\n",
       "      <td>999.0</td>\n",
       "      <td>1.036401e+09</td>\n",
       "      <td>6.151503e+08</td>\n",
       "      <td>184918.168076</td>\n",
       "      <td>4.801824e+08</td>\n",
       "      <td>1.029507e+09</td>\n",
       "      <td>1.587982e+09</td>\n",
       "      <td>2.063338e+09</td>\n",
       "    </tr>\n",
       "    <tr>\n",
       "      <th>Sessions</th>\n",
       "      <td>999.0</td>\n",
       "      <td>3.225926e+01</td>\n",
       "      <td>2.465859e+01</td>\n",
       "      <td>17.000000</td>\n",
       "      <td>2.100000e+01</td>\n",
       "      <td>2.500000e+01</td>\n",
       "      <td>3.500000e+01</td>\n",
       "      <td>3.670000e+02</td>\n",
       "    </tr>\n",
       "    <tr>\n",
       "      <th>Avg. Session Duration</th>\n",
       "      <td>999.0</td>\n",
       "      <td>3.636520e+00</td>\n",
       "      <td>4.040562e+00</td>\n",
       "      <td>0.000000</td>\n",
       "      <td>8.916667e-01</td>\n",
       "      <td>2.466667e+00</td>\n",
       "      <td>4.816667e+00</td>\n",
       "      <td>3.066667e+01</td>\n",
       "    </tr>\n",
       "    <tr>\n",
       "      <th>Bounce Rate</th>\n",
       "      <td>999.0</td>\n",
       "      <td>6.530798e+01</td>\n",
       "      <td>2.299727e+01</td>\n",
       "      <td>4.880000</td>\n",
       "      <td>4.737000e+01</td>\n",
       "      <td>6.667000e+01</td>\n",
       "      <td>8.519000e+01</td>\n",
       "      <td>1.000000e+02</td>\n",
       "    </tr>\n",
       "  </tbody>\n",
       "</table>\n",
       "</div>"
      ],
      "text/plain": [
       "                       count          mean           std            min  \\\n",
       "Client ID              999.0  1.036401e+09  6.151503e+08  184918.168076   \n",
       "Sessions               999.0  3.225926e+01  2.465859e+01      17.000000   \n",
       "Avg. Session Duration  999.0  3.636520e+00  4.040562e+00       0.000000   \n",
       "Bounce Rate            999.0  6.530798e+01  2.299727e+01       4.880000   \n",
       "\n",
       "                                25%           50%           75%           max  \n",
       "Client ID              4.801824e+08  1.029507e+09  1.587982e+09  2.063338e+09  \n",
       "Sessions               2.100000e+01  2.500000e+01  3.500000e+01  3.670000e+02  \n",
       "Avg. Session Duration  8.916667e-01  2.466667e+00  4.816667e+00  3.066667e+01  \n",
       "Bounce Rate            4.737000e+01  6.667000e+01  8.519000e+01  1.000000e+02  "
      ]
     },
     "execution_count": 8,
     "metadata": {},
     "output_type": "execute_result"
    }
   ],
   "source": [
    "data.describe().T"
   ]
  },
  {
   "cell_type": "markdown",
   "id": "d347cf1e",
   "metadata": {},
   "source": [
    "correlation matrix"
   ]
  },
  {
   "cell_type": "code",
   "execution_count": 9,
   "id": "205f1834",
   "metadata": {},
   "outputs": [
    {
     "data": {
      "text/plain": [
       "<Axes: >"
      ]
     },
     "execution_count": 9,
     "metadata": {},
     "output_type": "execute_result"
    },
    {
     "data": {
      "image/png": "[encoded data removed]",
      "text/plain": [
       "<Figure size 640x480 with 2 Axes>"
      ]
     },
     "metadata": {},
     "output_type": "display_data"
    }
   ],
   "source": [
    "sns.heatmap(data[['Sessions', 'Avg. Session Duration','Bounce Rate']].corr())"
   ]
  },
  {
   "cell_type": "markdown",
   "id": "b429f30e",
   "metadata": {},
   "source": [
    "analyze User Engagement by analyzing the bounce rates of the users"
   ]
  },
  {
   "cell_type": "code",
   "execution_count": 11,
   "id": "50613264",
   "metadata": {},
   "outputs": [
    {
     "data": {
      "text/plain": [
       "<Axes: xlabel='Bounce Rate Segment', ylabel='count'>"
      ]
     },
     "execution_count": 11,
     "metadata": {},
     "output_type": "execute_result"
    },
    {
     "data": {
      "image/png": "[encoded data removed]",
      "text/plain": [
       "<Figure size 640x480 with 1 Axes>"
      ]
     },
     "metadata": {},
     "output_type": "display_data"
    }
   ],
   "source": [
    "#defining the bounce rate for high, medium, and low bounce rate\n",
    "high_bounce_rate_threshold = 70\n",
    "low_bounce_rate_threshold = 30\n",
    "\n",
    "#segement the clients based on the bounce rate\n",
    "data['Bounce Rate Segment'] = pd.cut(data['Bounce Rate'],\n",
    "                            bins=[0, low_bounce_rate_threshold,high_bounce_rate_threshold,100],\n",
    "                            labels=['Low','Medium', 'High'], right=False)\n",
    "\n",
    "#count the number of clients in each segment\n",
    "segment_count = data['Bounce Rate Segment'].value_counts().sort_index()\n",
    "\n",
    "sns.barplot(segment_count)"
   ]
  },
  {
   "cell_type": "code",
   "execution_count": 12,
   "id": "2dbd95b3",
   "metadata": {},
   "outputs": [
    {
     "data": {
      "text/plain": [
       "Bounce Rate Segment\n",
       "Low        71\n",
       "Medium    480\n",
       "High      399\n",
       "Name: count, dtype: int64"
      ]
     },
     "execution_count": 12,
     "metadata": {},
     "output_type": "execute_result"
    }
   ],
   "source": [
    "segment_count"
   ]
  },
  {
   "cell_type": "markdown",
   "id": "d2db124e",
   "metadata": {},
   "source": [
    "average session duration of the users in each bounce rate segment:\n",
    "\n"
   ]
  },
  {
   "cell_type": "code",
   "execution_count": 23,
   "id": "7b4a269f",
   "metadata": {},
   "outputs": [
    {
     "data": {
      "text/plain": [
       "<Axes: xlabel='Bounce Rate Segment', ylabel='Avg. Session Duration'>"
      ]
     },
     "execution_count": 23,
     "metadata": {},
     "output_type": "execute_result"
    },
    {
     "data": {
      "image/png": "[encoded data removed]",
      "text/plain": [
       "<Figure size 640x480 with 1 Axes>"
      ]
     },
     "metadata": {},
     "output_type": "display_data"
    }
   ],
   "source": [
    "segment_average_duration = data.groupby('Bounce Rate Segment',observed=True)['Avg. Session Duration'].mean().reset_index()\n",
    "\n",
    "sns.barplot(segment_average_duration,x='Bounce Rate Segment', y='Avg. Session Duration')"
   ]
  },
  {
   "cell_type": "code",
   "execution_count": 19,
   "id": "ed3c49e7",
   "metadata": {},
   "outputs": [
    {
     "data": {
      "text/html": [
       "<div>\n",
       "<style scoped>\n",
       "    .dataframe tbody tr th:only-of-type {\n",
       "        vertical-align: middle;\n",
       "    }\n",
       "\n",
       "    .dataframe tbody tr th {\n",
       "        vertical-align: top;\n",
       "    }\n",
       "\n",
       "    .dataframe thead th {\n",
       "        text-align: right;\n",
       "    }\n",
       "</style>\n",
       "<table border=\"1\" class=\"dataframe\">\n",
       "  <thead>\n",
       "    <tr style=\"text-align: right;\">\n",
       "      <th></th>\n",
       "      <th>Bounce Rate Segment</th>\n",
       "      <th>Avg. Session Duration</th>\n",
       "    </tr>\n",
       "  </thead>\n",
       "  <tbody>\n",
       "    <tr>\n",
       "      <th>0</th>\n",
       "      <td>Low</td>\n",
       "      <td>9.046479</td>\n",
       "    </tr>\n",
       "    <tr>\n",
       "      <th>1</th>\n",
       "      <td>Medium</td>\n",
       "      <td>5.038854</td>\n",
       "    </tr>\n",
       "    <tr>\n",
       "      <th>2</th>\n",
       "      <td>High</td>\n",
       "      <td>1.433417</td>\n",
       "    </tr>\n",
       "  </tbody>\n",
       "</table>\n",
       "</div>"
      ],
      "text/plain": [
       "  Bounce Rate Segment  Avg. Session Duration\n",
       "0                 Low               9.046479\n",
       "1              Medium               5.038854\n",
       "2                High               1.433417"
      ]
     },
     "execution_count": 19,
     "metadata": {},
     "output_type": "execute_result"
    }
   ],
   "source": [
    "segment_average_duration"
   ]
  },
  {
   "cell_type": "markdown",
   "id": "524be559",
   "metadata": {},
   "source": [
    "top 10 loyal users according to the number of sessions and average session duration:\n",
    "\n"
   ]
  },
  {
   "cell_type": "code",
   "execution_count": 26,
   "id": "62163cd8",
   "metadata": {},
   "outputs": [
    {
     "data": {
      "text/html": [
       "<div>\n",
       "<style scoped>\n",
       "    .dataframe tbody tr th:only-of-type {\n",
       "        vertical-align: middle;\n",
       "    }\n",
       "\n",
       "    .dataframe tbody tr th {\n",
       "        vertical-align: top;\n",
       "    }\n",
       "\n",
       "    .dataframe thead th {\n",
       "        text-align: right;\n",
       "    }\n",
       "</style>\n",
       "<table border=\"1\" class=\"dataframe\">\n",
       "  <thead>\n",
       "    <tr style=\"text-align: right;\">\n",
       "      <th></th>\n",
       "      <th>Client ID</th>\n",
       "      <th>Sessions</th>\n",
       "      <th>Avg. Session Duration</th>\n",
       "      <th>Bounce Rate</th>\n",
       "      <th>Bounce Rate Segment</th>\n",
       "      <th>total session duration</th>\n",
       "    </tr>\n",
       "  </thead>\n",
       "  <tbody>\n",
       "    <tr>\n",
       "      <th>20</th>\n",
       "      <td>1.884620e+09</td>\n",
       "      <td>93</td>\n",
       "      <td>30.666667</td>\n",
       "      <td>16.13</td>\n",
       "      <td>Low</td>\n",
       "      <td>2852.000000</td>\n",
       "    </tr>\n",
       "    <tr>\n",
       "      <th>54</th>\n",
       "      <td>1.041722e+09</td>\n",
       "      <td>67</td>\n",
       "      <td>20.500000</td>\n",
       "      <td>22.39</td>\n",
       "      <td>Low</td>\n",
       "      <td>1373.500000</td>\n",
       "    </tr>\n",
       "    <tr>\n",
       "      <th>262</th>\n",
       "      <td>8.756557e+08</td>\n",
       "      <td>34</td>\n",
       "      <td>29.966667</td>\n",
       "      <td>26.47</td>\n",
       "      <td>Low</td>\n",
       "      <td>1018.866667</td>\n",
       "    </tr>\n",
       "    <tr>\n",
       "      <th>10</th>\n",
       "      <td>1.461865e+09</td>\n",
       "      <td>117</td>\n",
       "      <td>8.450000</td>\n",
       "      <td>48.72</td>\n",
       "      <td>Medium</td>\n",
       "      <td>988.650000</td>\n",
       "    </tr>\n",
       "    <tr>\n",
       "      <th>173</th>\n",
       "      <td>1.849182e+05</td>\n",
       "      <td>40</td>\n",
       "      <td>24.416667</td>\n",
       "      <td>17.50</td>\n",
       "      <td>Low</td>\n",
       "      <td>976.666667</td>\n",
       "    </tr>\n",
       "    <tr>\n",
       "      <th>15</th>\n",
       "      <td>1.049234e+09</td>\n",
       "      <td>99</td>\n",
       "      <td>9.716667</td>\n",
       "      <td>34.34</td>\n",
       "      <td>Medium</td>\n",
       "      <td>961.950000</td>\n",
       "    </tr>\n",
       "    <tr>\n",
       "      <th>310</th>\n",
       "      <td>2.026953e+09</td>\n",
       "      <td>31</td>\n",
       "      <td>22.116667</td>\n",
       "      <td>35.48</td>\n",
       "      <td>Medium</td>\n",
       "      <td>685.616667</td>\n",
       "    </tr>\n",
       "    <tr>\n",
       "      <th>24</th>\n",
       "      <td>1.903206e+09</td>\n",
       "      <td>90</td>\n",
       "      <td>7.016667</td>\n",
       "      <td>36.67</td>\n",
       "      <td>Medium</td>\n",
       "      <td>631.500000</td>\n",
       "    </tr>\n",
       "    <tr>\n",
       "      <th>211</th>\n",
       "      <td>2.054569e+09</td>\n",
       "      <td>37</td>\n",
       "      <td>16.250000</td>\n",
       "      <td>35.14</td>\n",
       "      <td>Medium</td>\n",
       "      <td>601.250000</td>\n",
       "    </tr>\n",
       "    <tr>\n",
       "      <th>402</th>\n",
       "      <td>6.220935e+08</td>\n",
       "      <td>28</td>\n",
       "      <td>21.300000</td>\n",
       "      <td>39.29</td>\n",
       "      <td>Medium</td>\n",
       "      <td>596.400000</td>\n",
       "    </tr>\n",
       "  </tbody>\n",
       "</table>\n",
       "</div>"
      ],
      "text/plain": [
       "        Client ID  Sessions  Avg. Session Duration  Bounce Rate  \\\n",
       "20   1.884620e+09        93              30.666667        16.13   \n",
       "54   1.041722e+09        67              20.500000        22.39   \n",
       "262  8.756557e+08        34              29.966667        26.47   \n",
       "10   1.461865e+09       117               8.450000        48.72   \n",
       "173  1.849182e+05        40              24.416667        17.50   \n",
       "15   1.049234e+09        99               9.716667        34.34   \n",
       "310  2.026953e+09        31              22.116667        35.48   \n",
       "24   1.903206e+09        90               7.016667        36.67   \n",
       "211  2.054569e+09        37              16.250000        35.14   \n",
       "402  6.220935e+08        28              21.300000        39.29   \n",
       "\n",
       "    Bounce Rate Segment  total session duration  \n",
       "20                  Low             2852.000000  \n",
       "54                  Low             1373.500000  \n",
       "262                 Low             1018.866667  \n",
       "10               Medium              988.650000  \n",
       "173                 Low              976.666667  \n",
       "15               Medium              961.950000  \n",
       "310              Medium              685.616667  \n",
       "24               Medium              631.500000  \n",
       "211              Medium              601.250000  \n",
       "402              Medium              596.400000  "
      ]
     },
     "execution_count": 26,
     "metadata": {},
     "output_type": "execute_result"
    }
   ],
   "source": [
    "data['total session duration'] = data['Sessions'] * data['Avg. Session Duration']\n",
    "\n",
    "data.sort_values('total session duration', ascending=False).head(10)"
   ]
  },
  {
   "cell_type": "markdown",
   "id": "29ff3a31",
   "metadata": {},
   "source": [
    "relationship between the average session duration and the bounce rates:\n",
    "\n"
   ]
  },
  {
   "cell_type": "code",
   "execution_count": 28,
   "id": "84c2fb23",
   "metadata": {},
   "outputs": [
    {
     "data": {
      "text/plain": [
       "<Axes: xlabel='Bounce Rate', ylabel='Avg. Session Duration'>"
      ]
     },
     "execution_count": 28,
     "metadata": {},
     "output_type": "execute_result"
    },
    {
     "data": {
      "image/png": "[encoded data removed]",
      "text/plain": [
       "<Figure size 640x480 with 1 Axes>"
      ]
     },
     "metadata": {},
     "output_type": "display_data"
    }
   ],
   "source": [
    "sns.scatterplot(data, y='Avg. Session Duration', x='Bounce Rate')"
   ]
  },
  {
   "cell_type": "markdown",
   "id": "26567c63",
   "metadata": {},
   "source": [
    "So there is a negative linear relationship between the average session duration and bounce rates (which is ideal here). It means a high number of average session duration results in lower bounce rates.\n",
    "\n"
   ]
  },
  {
   "cell_type": "markdown",
   "id": "be04dc83",
   "metadata": {},
   "source": [
    "create retention segments based on the number of sessions:\n",
    "\n"
   ]
  },
  {
   "cell_type": "code",
   "execution_count": 30,
   "id": "f5e8c4d8",
   "metadata": {},
   "outputs": [
    {
     "data": {
      "text/html": [
       "<div>\n",
       "<style scoped>\n",
       "    .dataframe tbody tr th:only-of-type {\n",
       "        vertical-align: middle;\n",
       "    }\n",
       "\n",
       "    .dataframe tbody tr th {\n",
       "        vertical-align: top;\n",
       "    }\n",
       "\n",
       "    .dataframe thead th {\n",
       "        text-align: right;\n",
       "    }\n",
       "</style>\n",
       "<table border=\"1\" class=\"dataframe\">\n",
       "  <thead>\n",
       "    <tr style=\"text-align: right;\">\n",
       "      <th></th>\n",
       "      <th>Client ID</th>\n",
       "      <th>Sessions</th>\n",
       "      <th>Avg. Session Duration</th>\n",
       "      <th>Bounce Rate</th>\n",
       "      <th>Bounce Rate Segment</th>\n",
       "      <th>total session duration</th>\n",
       "    </tr>\n",
       "  </thead>\n",
       "  <tbody>\n",
       "    <tr>\n",
       "      <th>0</th>\n",
       "      <td>5.778476e+08</td>\n",
       "      <td>367</td>\n",
       "      <td>1.583333</td>\n",
       "      <td>87.19</td>\n",
       "      <td>High</td>\n",
       "      <td>581.083333</td>\n",
       "    </tr>\n",
       "    <tr>\n",
       "      <th>1</th>\n",
       "      <td>1.583822e+09</td>\n",
       "      <td>260</td>\n",
       "      <td>1.066667</td>\n",
       "      <td>29.62</td>\n",
       "      <td>Low</td>\n",
       "      <td>277.333333</td>\n",
       "    </tr>\n",
       "    <tr>\n",
       "      <th>2</th>\n",
       "      <td>1.030699e+09</td>\n",
       "      <td>237</td>\n",
       "      <td>0.033333</td>\n",
       "      <td>99.16</td>\n",
       "      <td>High</td>\n",
       "      <td>7.900000</td>\n",
       "    </tr>\n",
       "    <tr>\n",
       "      <th>3</th>\n",
       "      <td>1.025030e+09</td>\n",
       "      <td>226</td>\n",
       "      <td>2.366667</td>\n",
       "      <td>25.66</td>\n",
       "      <td>Low</td>\n",
       "      <td>534.866667</td>\n",
       "    </tr>\n",
       "    <tr>\n",
       "      <th>4</th>\n",
       "      <td>1.469968e+09</td>\n",
       "      <td>216</td>\n",
       "      <td>1.383333</td>\n",
       "      <td>46.76</td>\n",
       "      <td>Medium</td>\n",
       "      <td>298.800000</td>\n",
       "    </tr>\n",
       "  </tbody>\n",
       "</table>\n",
       "</div>"
      ],
      "text/plain": [
       "      Client ID  Sessions  Avg. Session Duration  Bounce Rate  \\\n",
       "0  5.778476e+08       367               1.583333        87.19   \n",
       "1  1.583822e+09       260               1.066667        29.62   \n",
       "2  1.030699e+09       237               0.033333        99.16   \n",
       "3  1.025030e+09       226               2.366667        25.66   \n",
       "4  1.469968e+09       216               1.383333        46.76   \n",
       "\n",
       "  Bounce Rate Segment  total session duration  \n",
       "0                High              581.083333  \n",
       "1                 Low              277.333333  \n",
       "2                High                7.900000  \n",
       "3                 Low              534.866667  \n",
       "4              Medium              298.800000  "
      ]
     },
     "execution_count": 30,
     "metadata": {},
     "output_type": "execute_result"
    }
   ],
   "source": [
    "data.head()"
   ]
  },
  {
   "cell_type": "code",
   "execution_count": 31,
   "id": "e1fe91ca",
   "metadata": {},
   "outputs": [
    {
     "data": {
      "text/plain": [
       "32.25925925925926"
      ]
     },
     "execution_count": 31,
     "metadata": {},
     "output_type": "execute_result"
    }
   ],
   "source": [
    "data['Sessions'].mean()"
   ]
  },
  {
   "cell_type": "code",
   "execution_count": 32,
   "id": "732311db",
   "metadata": {},
   "outputs": [],
   "source": [
    "def get_user_retention(row):\n",
    "    if row['Sessions'] > 32.25:\n",
    "        return 'Frequent User'\n",
    "    else:\n",
    "        return 'Ocassional User'\n",
    "    \n",
    "data['Retension Segment'] = data.apply(get_user_retention, axis=1)"
   ]
  },
  {
   "cell_type": "code",
   "execution_count": 39,
   "id": "0447d77d",
   "metadata": {},
   "outputs": [
    {
     "data": {
      "text/html": [
       "<div>\n",
       "<style scoped>\n",
       "    .dataframe tbody tr th:only-of-type {\n",
       "        vertical-align: middle;\n",
       "    }\n",
       "\n",
       "    .dataframe tbody tr th {\n",
       "        vertical-align: top;\n",
       "    }\n",
       "\n",
       "    .dataframe thead th {\n",
       "        text-align: right;\n",
       "    }\n",
       "</style>\n",
       "<table border=\"1\" class=\"dataframe\">\n",
       "  <thead>\n",
       "    <tr style=\"text-align: right;\">\n",
       "      <th></th>\n",
       "      <th>Client ID</th>\n",
       "      <th>Sessions</th>\n",
       "      <th>Avg. Session Duration</th>\n",
       "      <th>Bounce Rate</th>\n",
       "      <th>Bounce Rate Segment</th>\n",
       "      <th>total session duration</th>\n",
       "      <th>Retension Segment</th>\n",
       "    </tr>\n",
       "  </thead>\n",
       "  <tbody>\n",
       "    <tr>\n",
       "      <th>0</th>\n",
       "      <td>5.778476e+08</td>\n",
       "      <td>367</td>\n",
       "      <td>1.583333</td>\n",
       "      <td>87.19</td>\n",
       "      <td>High</td>\n",
       "      <td>581.083333</td>\n",
       "      <td>Frequent User</td>\n",
       "    </tr>\n",
       "    <tr>\n",
       "      <th>1</th>\n",
       "      <td>1.583822e+09</td>\n",
       "      <td>260</td>\n",
       "      <td>1.066667</td>\n",
       "      <td>29.62</td>\n",
       "      <td>Low</td>\n",
       "      <td>277.333333</td>\n",
       "      <td>Frequent User</td>\n",
       "    </tr>\n",
       "    <tr>\n",
       "      <th>2</th>\n",
       "      <td>1.030699e+09</td>\n",
       "      <td>237</td>\n",
       "      <td>0.033333</td>\n",
       "      <td>99.16</td>\n",
       "      <td>High</td>\n",
       "      <td>7.900000</td>\n",
       "      <td>Frequent User</td>\n",
       "    </tr>\n",
       "    <tr>\n",
       "      <th>3</th>\n",
       "      <td>1.025030e+09</td>\n",
       "      <td>226</td>\n",
       "      <td>2.366667</td>\n",
       "      <td>25.66</td>\n",
       "      <td>Low</td>\n",
       "      <td>534.866667</td>\n",
       "      <td>Frequent User</td>\n",
       "    </tr>\n",
       "    <tr>\n",
       "      <th>4</th>\n",
       "      <td>1.469968e+09</td>\n",
       "      <td>216</td>\n",
       "      <td>1.383333</td>\n",
       "      <td>46.76</td>\n",
       "      <td>Medium</td>\n",
       "      <td>298.800000</td>\n",
       "      <td>Frequent User</td>\n",
       "    </tr>\n",
       "  </tbody>\n",
       "</table>\n",
       "</div>"
      ],
      "text/plain": [
       "      Client ID  Sessions  Avg. Session Duration  Bounce Rate  \\\n",
       "0  5.778476e+08       367               1.583333        87.19   \n",
       "1  1.583822e+09       260               1.066667        29.62   \n",
       "2  1.030699e+09       237               0.033333        99.16   \n",
       "3  1.025030e+09       226               2.366667        25.66   \n",
       "4  1.469968e+09       216               1.383333        46.76   \n",
       "\n",
       "  Bounce Rate Segment  total session duration Retension Segment  \n",
       "0                High              581.083333     Frequent User  \n",
       "1                 Low              277.333333     Frequent User  \n",
       "2                High                7.900000     Frequent User  \n",
       "3                 Low              534.866667     Frequent User  \n",
       "4              Medium              298.800000     Frequent User  "
      ]
     },
     "execution_count": 39,
     "metadata": {},
     "output_type": "execute_result"
    }
   ],
   "source": [
    "data.head()"
   ]
  },
  {
   "cell_type": "markdown",
   "id": "27393671",
   "metadata": {},
   "source": [
    "the average bounce rate by retention segment:"
   ]
  },
  {
   "cell_type": "code",
   "execution_count": 41,
   "id": "dc9c5d3e",
   "metadata": {},
   "outputs": [
    {
     "data": {
      "text/plain": [
       "<Axes: xlabel='Retension Segment', ylabel='Bounce Rate'>"
      ]
     },
     "execution_count": 41,
     "metadata": {},
     "output_type": "execute_result"
    },
    {
     "data": {
      "image/png": "[encoded data removed]",
      "text/plain": [
       "<Figure size 640x480 with 1 Axes>"
      ]
     },
     "metadata": {},
     "output_type": "display_data"
    }
   ],
   "source": [
    "avg_bounce_rate = data.groupby('Retension Segment')['Bounce Rate'].mean().reset_index()\n",
    "\n",
    "sns.barplot(avg_bounce_rate, x='Retension Segment', y='Bounce Rate')"
   ]
  },
  {
   "cell_type": "markdown",
   "id": "222cbece",
   "metadata": {},
   "source": [
    " the percentage of retained users:\n",
    "\n"
   ]
  },
  {
   "cell_type": "code",
   "execution_count": 47,
   "id": "0de43538",
   "metadata": {},
   "outputs": [
    {
     "data": {
      "image/png": "[encoded data removed]",
      "text/plain": [
       "<Figure size 640x480 with 1 Axes>"
      ]
     },
     "metadata": {},
     "output_type": "display_data"
    }
   ],
   "source": [
    "count = data['Retension Segment'].value_counts()\n",
    "\n",
    "plt.pie(count);"
   ]
  },
  {
   "cell_type": "code",
   "execution_count": null,
   "id": "49edd30a",
   "metadata": {},
   "outputs": [],
   "source": []
  }
 ],
 "metadata": {
  "kernelspec": {
   "display_name": "Python 3 (ipykernel)",
   "language": "python",
   "name": "python3"
  },
  "language_info": {
   "codemirror_mode": {
    "name": "ipython",
    "version": 3
   },
   "file_extension": ".py",
   "mimetype": "text/x-python",
   "name": "python",
   "nbconvert_exporter": "python",
   "pygments_lexer": "ipython3",
   "version": "3.11.5"
  }
 },
 "nbformat": 4,
 "nbformat_minor": 5
}
